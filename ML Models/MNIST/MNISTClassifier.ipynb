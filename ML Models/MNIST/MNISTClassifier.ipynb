{
 "cells": [
  {
   "cell_type": "markdown",
   "metadata": {},
   "source": [
    "# Simple Neural Network model to perform classification of handwritten digits"
   ]
  },
  {
   "cell_type": "markdown",
   "metadata": {},
   "source": [
    "* ### Import all required modules"
   ]
  },
  {
   "cell_type": "code",
   "execution_count": 2,
   "metadata": {},
   "outputs": [],
   "source": [
    "import matplotlib.pyplot as plt\n",
    "import seaborn as sns\n",
    "import numpy as np\n",
    "import pandas as pd\n",
    "\n",
    "import keras\n",
    "from keras.utils import np_utils\n",
    "from keras.datasets import mnist\n",
    "from keras import backend\n",
    "from keras.models import Sequential\n",
    "from keras.layers import Dense, Dropout, Flatten\n",
    "from keras.layers import Conv2D, MaxPooling2D\n",
    "\n",
    "import coremltools\n",
    "\n",
    "import warnings\n",
    "warnings.filterwarnings('ignore')\n",
    "\n",
    "%matplotlib inline"
   ]
  },
  {
   "cell_type": "markdown",
   "metadata": {},
   "source": [
    "* ### Set random state which is about to be used in a notebook and some numpy, matpotlib settings"
   ]
  },
  {
   "cell_type": "code",
   "execution_count": 3,
   "metadata": {},
   "outputs": [
    {
     "data": {
      "text/plain": [
       "<Figure size 5760x5760 with 0 Axes>"
      ]
     },
     "execution_count": 3,
     "metadata": {},
     "output_type": "execute_result"
    },
    {
     "data": {
      "text/plain": [
       "<Figure size 5760x5760 with 0 Axes>"
      ]
     },
     "metadata": {},
     "output_type": "display_data"
    }
   ],
   "source": [
    "random_state = 42\n",
    "np.random.seed(random_state)\n",
    "plt.figure(figsize=(80,80))"
   ]
  },
  {
   "cell_type": "markdown",
   "metadata": {},
   "source": [
    "* ### Let's load MNIST data and split it into train and test"
   ]
  },
  {
   "cell_type": "code",
   "execution_count": 4,
   "metadata": {},
   "outputs": [],
   "source": [
    "(X_train, y_train), (X_test, y_test) = mnist.load_data()"
   ]
  },
  {
   "cell_type": "markdown",
   "metadata": {},
   "source": [
    "* ### Let's look at the data we are going to use for training"
   ]
  },
  {
   "cell_type": "code",
   "execution_count": 5,
   "metadata": {},
   "outputs": [
    {
     "data": {
      "image/png": "[encoded data removed]",
      "text/plain": [
       "<Figure size 432x288 with 5 Axes>"
      ]
     },
     "metadata": {},
     "output_type": "display_data"
    }
   ],
   "source": [
    "for i in range(5):\n",
    "    plt.subplot(1, 5, i+1)\n",
    "    plt.imshow(X_train[i], cmap='gray', interpolation='none')\n",
    "    plt.title(y_train[i])\n",
    "    plt.xticks([])\n",
    "    plt.yticks([])"
   ]
  },
  {
   "cell_type": "markdown",
   "metadata": {},
   "source": [
    "* ### Let's process our data to prepare it for training and validation as well"
   ]
  },
  {
   "cell_type": "code",
   "execution_count": 6,
   "metadata": {},
   "outputs": [],
   "source": [
    "image_rows, image_cols = 28, 28\n",
    "\n",
    "if backend.image_data_format() == 'channels_first':\n",
    "    X_train = X_train.reshape(X_train.shape[0], 1, image_rows, image_cols)\n",
    "    X_test = X_test.reshape(X_test.shape[0], 1, image_rows, image_cols)\n",
    "    input_shape = (1, image_rows, image_cols)\n",
    "else:\n",
    "    X_train = X_train.reshape(X_train.shape[0], image_rows, image_cols, 1)\n",
    "    X_test = X_test.reshape(X_test.shape[0], image_rows, image_cols, 1)\n",
    "    input_shape = (image_rows, image_cols, 1)\n",
    "\n",
    "X_train = X_train.astype('float32') / 5\n",
    "X_test = X_test.astype('float32') / 5"
   ]
  },
  {
   "cell_type": "markdown",
   "metadata": {},
   "source": [
    "* ### Encode Categorical Features with Ohe Hot Encoding"
   ]
  },
  {
   "cell_type": "code",
   "execution_count": 7,
   "metadata": {},
   "outputs": [],
   "source": [
    "num_categories = 10\n",
    "y_train = np_utils.to_categorical(y_train, num_categories)\n",
    "y_test = np_utils.to_categorical(y_test, num_categories)"
   ]
  },
  {
   "cell_type": "markdown",
   "metadata": {},
   "source": [
    "* ### Declare, tune and compile the Neural Network Architecture (VGG-like ConvNet)"
   ]
  },
  {
   "cell_type": "code",
   "execution_count": 10,
   "metadata": {},
   "outputs": [],
   "source": [
    "model = Sequential()\n",
    "\n",
    "model.add(Conv2D(32, (3, 3), activation='relu', input_shape=input_shape))\n",
    "model.add(Conv2D(32, (3, 3), activation='relu'))\n",
    "model.add(MaxPooling2D(pool_size=(2, 2)))\n",
    "model.add(Dropout(0.25))\n",
    "\n",
    "model.add(Conv2D(64, (3, 3), activation='relu'))\n",
    "model.add(Conv2D(64, (3, 3), activation='relu'))\n",
    "model.add(MaxPooling2D(pool_size=(2, 2)))\n",
    "model.add(Dropout(0.25))\n",
    "\n",
    "model.add(Flatten())\n",
    "model.add(Dense(256, activation='relu'))\n",
    "model.add(Dropout(0.5))\n",
    "model.add(Dense(num_categories, activation='softmax'))"
   ]
  },
  {
   "cell_type": "code",
   "execution_count": 11,
   "metadata": {},
   "outputs": [],
   "source": [
    "model.compile(loss=keras.losses.categorical_crossentropy,\n",
    "              optimizer=keras.optimizers.Adadelta(),\n",
    "              metrics=['accuracy'])"
   ]
  },
  {
   "cell_type": "markdown",
   "metadata": {},
   "source": [
    "* ### Perform training on the data"
   ]
  },
  {
   "cell_type": "code",
   "execution_count": 12,
   "metadata": {},
   "outputs": [
    {
     "name": "stdout",
     "output_type": "stream",
     "text": [
      "WARNING:tensorflow:From /anaconda3/lib/python3.6/site-packages/tensorflow/python/ops/math_ops.py:3066: to_int32 (from tensorflow.python.ops.math_ops) is deprecated and will be removed in a future version.\n",
      "Instructions for updating:\n",
      "Use tf.cast instead.\n"
     ]
    },
    {
     "name": "stderr",
     "output_type": "stream",
     "text": [
      "WARNING:tensorflow:From /anaconda3/lib/python3.6/site-packages/tensorflow/python/ops/math_ops.py:3066: to_int32 (from tensorflow.python.ops.math_ops) is deprecated and will be removed in a future version.\n",
      "Instructions for updating:\n",
      "Use tf.cast instead.\n"
     ]
    },
    {
     "name": "stdout",
     "output_type": "stream",
     "text": [
      "Train on 60000 samples, validate on 10000 samples\n",
      "Epoch 1/8\n",
      "60000/60000 [==============================] - 100s 2ms/step - loss: 0.3014 - acc: 0.9098 - val_loss: 0.0482 - val_acc: 0.9843\n",
      "Epoch 2/8\n",
      "60000/60000 [==============================] - 99s 2ms/step - loss: 0.0848 - acc: 0.9742 - val_loss: 0.0291 - val_acc: 0.9907\n",
      "Epoch 3/8\n",
      "60000/60000 [==============================] - 99s 2ms/step - loss: 0.0607 - acc: 0.9808 - val_loss: 0.0250 - val_acc: 0.9918\n",
      "Epoch 4/8\n",
      "60000/60000 [==============================] - 98s 2ms/step - loss: 0.0509 - acc: 0.9848 - val_loss: 0.0252 - val_acc: 0.9916\n",
      "Epoch 5/8\n",
      "60000/60000 [==============================] - 99s 2ms/step - loss: 0.0418 - acc: 0.9872 - val_loss: 0.0213 - val_acc: 0.9929\n",
      "Epoch 6/8\n",
      "60000/60000 [==============================] - 98s 2ms/step - loss: 0.0364 - acc: 0.9887 - val_loss: 0.0217 - val_acc: 0.9921\n",
      "Epoch 7/8\n",
      "60000/60000 [==============================] - 101s 2ms/step - loss: 0.0318 - acc: 0.9902 - val_loss: 0.0190 - val_acc: 0.9939\n",
      "Epoch 8/8\n",
      "60000/60000 [==============================] - 99s 2ms/step - loss: 0.0284 - acc: 0.9911 - val_loss: 0.0197 - val_acc: 0.9940\n"
     ]
    },
    {
     "data": {
      "text/plain": [
       "<keras.callbacks.History at 0x1a4a9c8240>"
      ]
     },
     "execution_count": 12,
     "metadata": {},
     "output_type": "execute_result"
    }
   ],
   "source": [
    "batch_size = 128\n",
    "num_epoch = 8\n",
    "model.fit(X_train, \n",
    "          y_train,\n",
    "          batch_size=batch_size,\n",
    "          epochs=num_epoch,\n",
    "          validation_data=(X_test, y_test))"
   ]
  },
  {
   "cell_type": "code",
   "execution_count": 13,
   "metadata": {},
   "outputs": [
    {
     "name": "stdout",
     "output_type": "stream",
     "text": [
      "Accuracy: 0.994\n"
     ]
    }
   ],
   "source": [
    "print('Accuracy:', model.evaluate(X_test, y_test, verbose=0)[1])"
   ]
  },
  {
   "cell_type": "markdown",
   "metadata": {},
   "source": [
    "* **So we've got a really decent accuracy. The model is doing great!**"
   ]
  },
  {
   "cell_type": "markdown",
   "metadata": {},
   "source": [
    "* ### Convert the model into MLModel format"
   ]
  },
  {
   "cell_type": "code",
   "execution_count": 14,
   "metadata": {},
   "outputs": [
    {
     "name": "stdout",
     "output_type": "stream",
     "text": [
      "0 : conv2d_5_input, <keras.engine.input_layer.InputLayer object at 0x1a4a9daac8>\n",
      "1 : conv2d_5, <keras.layers.convolutional.Conv2D object at 0x1a4a9da8d0>\n",
      "2 : conv2d_5__activation__, <keras.layers.core.Activation object at 0x1a4b363860>\n",
      "3 : conv2d_6, <keras.layers.convolutional.Conv2D object at 0x1a4a9da940>\n",
      "4 : conv2d_6__activation__, <keras.layers.core.Activation object at 0x1a4b363208>\n",
      "5 : max_pooling2d_3, <keras.layers.pooling.MaxPooling2D object at 0x1a4a9d3a58>\n",
      "6 : conv2d_7, <keras.layers.convolutional.Conv2D object at 0x1a4a9dab00>\n",
      "7 : conv2d_7__activation__, <keras.layers.core.Activation object at 0x1a4b363c50>\n",
      "8 : conv2d_8, <keras.layers.convolutional.Conv2D object at 0x1a4a9d3fd0>\n",
      "9 : conv2d_8__activation__, <keras.layers.core.Activation object at 0x1a3f3bc320>\n",
      "10 : max_pooling2d_4, <keras.layers.pooling.MaxPooling2D object at 0x1a4aa69588>\n",
      "11 : flatten_2, <keras.layers.core.Flatten object at 0x1a4aa69780>\n",
      "12 : dense_3, <keras.layers.core.Dense object at 0x1a4aa695c0>\n",
      "13 : dense_3__activation__, <keras.layers.core.Activation object at 0x1a3f3bcb00>\n",
      "14 : dense_4, <keras.layers.core.Dense object at 0x1a4aad5978>\n",
      "15 : dense_4__activation__, <keras.layers.core.Activation object at 0x1a4b373400>\n"
     ]
    }
   ],
   "source": [
    "output_labels = [\n",
    "    '0',\n",
    "    '1', \n",
    "    '2', \n",
    "    '3', \n",
    "    '4', \n",
    "    '5',\n",
    "    '6',\n",
    "    '7',\n",
    "    '8',\n",
    "    '9'\n",
    "]\n",
    "\n",
    "coreml_model = coremltools.converters.keras.convert(model,\n",
    "                                                   input_names='image',\n",
    "                                                   image_input_names='image',\n",
    "                                                   output_names='prediction',\n",
    "                                                   class_labels=output_labels)\n",
    "\n",
    "coreml_model.author = 'Alex Milogradsky'\n",
    "coreml_model.short_description = 'Simple Neural Network model to perform classification of handwritten digits'\n",
    "coreml_model.input_description['image'] = 'Image of a handwritten digit'\n",
    "coreml_model.output_description['prediction'] = 'Predicted digit'\n",
    "coreml_model.save('MNISTClassifier2.mlmodel')"
   ]
  }
 ],
 "metadata": {
  "kernelspec": {
   "display_name": "Python 3",
   "language": "python",
   "name": "python3"
  },
  "language_info": {
   "codemirror_mode": {
    "name": "ipython",
    "version": 3
   },
   "file_extension": ".py",
   "mimetype": "text/x-python",
   "name": "python",
   "nbconvert_exporter": "python",
   "pygments_lexer": "ipython3",
   "version": "3.6.5"
  }
 },
 "nbformat": 4,
 "nbformat_minor": 2
}
